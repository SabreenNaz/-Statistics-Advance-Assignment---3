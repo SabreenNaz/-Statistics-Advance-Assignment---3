{
 "cells": [
  {
   "cell_type": "markdown",
   "id": "847adbb7-db76-4977-981e-bb4bb638709c",
   "metadata": {},
   "source": [
    "Q1: What is Estimation Statistics? Explain point estimate and interval estimate"
   ]
  },
  {
   "cell_type": "markdown",
   "id": "8c945c2a-5f1a-4836-b0fa-b16e5edeb078",
   "metadata": {},
   "source": [
    "#Answer\n",
    "\n",
    "\n",
    "Estimation statistics involves the use of sample data to make inferences or estimates about population parameters. Two common types of estimates are point estimates and interval estimates.\n",
    "\n",
    "1. Point Estimate:\n",
    "\n",
    "* A point estimate is a single value that is used to approximate the true value of a population parameter.\n",
    "* It is calculated from the sample data and is considered the best guess or most likely value for the parameter\n",
    "\n",
    "For example, if you want to estimate the average height of all students in a school, you might calculate the sample mean (average height) and use that value as a point estimate for the population mean\n",
    "\n",
    "\n",
    "2. Interval Estimate:\n",
    "\n",
    "* An interval estimate provides a range within which the true value of a population parameter is likely to fall.\n",
    "* It takes into account the inherent uncertainty in estimating population parameters based on sample data.\n",
    "* The interval is constructed with a confidence level, which represents the probability that the interval contains the true parameter value\n",
    "\n",
    "For example, you might say, \"I am 95% confident that the average height of all students in the school is between 160 cm and 170 cm.\" Here, 95% is the confidence level\n",
    "\n",
    "\n",
    "Example:\n",
    "\n",
    "Suppose you want to estimate the average time spent on a particular task by employees in a company. You collect a sample of data and calculate the sample mean. This sample mean is the point estimate.\n",
    "\n",
    "Additionally, you may construct a confidence interval around this point estimate. For instance, you might say, \"I am 90% confident that the average time spent on the task is between 30 minutes and 40 minutes.\" This range (30 to 40 minutes) is the interval estimate\n",
    "\n",
    "In summary, while a point estimate gives you a single value as an estimate for a population parameter, an interval estimate provides a range of values, along with a level of confidence, to account for the uncertainty inherent in using sample data to make population inferences.\n",
    "\n"
   ]
  },
  {
   "cell_type": "markdown",
   "id": "d768ab2e-88b4-43b3-a1dd-6c72edbb4923",
   "metadata": {},
   "source": [
    "                      -------------------------------------------------------------------"
   ]
  },
  {
   "cell_type": "markdown",
   "id": "27b31586-75e9-4edc-b974-7ec1ef4da829",
   "metadata": {},
   "source": [
    "Q2. Write a Python function to estimate the population mean using a sample mean and standard\n",
    "deviation."
   ]
  },
  {
   "cell_type": "code",
   "execution_count": 11,
   "id": "83aa704a-fa4b-4e0c-9a2f-a27f0a2527f2",
   "metadata": {},
   "outputs": [
    {
     "name": "stdout",
     "output_type": "stream",
     "text": [
      "Point Estimate (Population Mean): 30\n",
      "Confidence Interval: (29.02, 30.98)\n"
     ]
    },
    {
     "data": {
      "text/plain": [
       "30"
      ]
     },
     "execution_count": 11,
     "metadata": {},
     "output_type": "execute_result"
    }
   ],
   "source": [
    "#Answer\n",
    "\n",
    "import math\n",
    "\n",
    "def estimate_population_mean(sample_mean, sample_std, sample_size):\n",
    "    \"\"\"\n",
    "    Estimate the population mean using a sample mean, sample standard deviation, and sample size.\n",
    "\n",
    "    Parameters:\n",
    "    - sample_mean: The mean of the sample.\n",
    "    - sample_std: The standard deviation of the sample.\n",
    "    - sample_size: The size of the sample.\n",
    "\n",
    "    Returns:\n",
    "    - population_mean_estimate: The estimated population mean.\n",
    "    \"\"\"\n",
    "    # Calculate the standard error of the mean\n",
    "    standard_error = sample_std / math.sqrt(sample_size)\n",
    "\n",
    "    # Calculate the margin of error (using a z-score for a certain confidence level)\n",
    "    # For example, for a 95% confidence interval, the z-score is 1.96\n",
    "    z_score = 1.96  \n",
    "    margin_of_error = z_score * standard_error\n",
    "\n",
    "    # Calculate the lower and upper bounds of the confidence interval\n",
    "    lower_bound = sample_mean - margin_of_error\n",
    "    upper_bound = sample_mean + margin_of_error\n",
    "\n",
    "    # The point estimate for the population mean is the same as the sample mean\n",
    "    population_mean_estimate = sample_mean\n",
    "\n",
    "    print(f\"Point Estimate (Population Mean): {population_mean_estimate}\")\n",
    "    print(f\"Confidence Interval: ({lower_bound}, {upper_bound})\")\n",
    "\n",
    "    return population_mean_estimate\n",
    "\n",
    "# Example usage:\n",
    "sample_mean = 30\n",
    "sample_std = 5\n",
    "sample_size = 100\n",
    "estimate_population_mean(sample_mean, sample_std, sample_size)\n"
   ]
  },
  {
   "cell_type": "markdown",
   "id": "61e7fe27-1fe2-442b-9990-ddf2b4958328",
   "metadata": {},
   "source": [
    "                      -------------------------------------------------------------------"
   ]
  },
  {
   "cell_type": "markdown",
   "id": "ec27e0f8-18e1-49e4-9089-03591eef47df",
   "metadata": {},
   "source": [
    "Q3: What is Hypothesis testing? Why is it used? State the importance of Hypothesis testing."
   ]
  },
  {
   "cell_type": "markdown",
   "id": "a3c611d1-e5e2-4b2a-9e33-98cea5bb7d29",
   "metadata": {},
   "source": [
    "#Answer\n",
    "\n",
    "Hypothesis testing is a statistical method used to make inferences about a population parameter based on a sample of data. It involves formulating a hypothesis, collecting and analyzing data, and then drawing conclusions about the population based on the evidence from the sample.\n",
    "\n",
    "Importance of Hypothesis Testing:\n",
    "\n",
    "1. Informed Decision Making:\n",
    "\n",
    "Hypothesis testing provides a structured framework for making decisions based on data. It helps researchers and analysts draw conclusions about population parameters\n",
    "\n",
    "2. Scientific Inquiry:\n",
    "\n",
    "In scientific research, hypothesis testing is crucial for validating or refuting scientific theories. It allows scientists to make evidence-based claims about the relationships between variables\n",
    "\n",
    "3. Quality Control and Process Improvement:\n",
    "\n",
    "Industries use hypothesis testing to ensure the quality of products and processes. For example, a manufacturing plant might use hypothesis testing to determine if a new production method results in a significant improvement\n",
    "\n",
    "4. Medical and Pharmaceutical Research:\n",
    "\n",
    "Hypothesis testing is widely used in medical and pharmaceutical research to assess the effectiveness of new treatments or drugs. It helps determine whether a new treatment has a significant impact compared to a standard treatment or a placebo\n",
    "\n",
    "5. Policy and Decision Making:\n",
    "\n",
    "Governments and policymakers use hypothesis testing to evaluate the impact of policy changes. For instance, a government might test whether a new education policy has a significant effect on student performance\n",
    "\n",
    "\n",
    "6. Quality of Research:\n",
    "\n",
    "Hypothesis testing is a fundamental aspect of the scientific method, ensuring that research findings are based on statistical evidence rather than mere chance\n",
    "\n",
    "In summary, hypothesis testing is a powerful tool for making informed decisions and drawing meaningful conclusions from data, contributing to the rigor and reliability of scientific and practical inquiries"
   ]
  },
  {
   "cell_type": "markdown",
   "id": "ab68aa9b-06e7-48ba-9454-ab662e3c7fc2",
   "metadata": {},
   "source": [
    "                      -------------------------------------------------------------------"
   ]
  },
  {
   "cell_type": "markdown",
   "id": "c4ae8cca-e0cf-4477-be6a-6619cbc6e718",
   "metadata": {},
   "source": [
    "Q4. Create a hypothesis that states whether the average weight of male college students is greater than\n",
    "the average weight of female college students. "
   ]
  },
  {
   "cell_type": "markdown",
   "id": "ca11646f-5c81-40cc-a330-eb054edf93d9",
   "metadata": {},
   "source": [
    "#Answer\n",
    "\n",
    "\n",
    "Null Hypothesis (H0):\n",
    "The average weight of male college students is equal to or less than the average weight of female college students.\n",
    "\n",
    "Alternative Hypothesis (Ha):\n",
    "The average weight of male college students is greater than the average weight of female college students.\n",
    "\n",
    "In a practical example:\n",
    "\n",
    "Null Hypothesis (H0):\n",
    "The average weight of male college students is the same as or less than the average weight of female college students.\n",
    "\n",
    "Alternative Hypothesis (Ha):\n",
    "The average weight of male college students is greater than the average weight of female college students.\n",
    "\n",
    "Symbolically:\n",
    "\n",
    "Null Hypothesis (H0):\n",
    "\n",
    "μmale≤μfemale\n",
    "\n",
    "Alternative Hypothesis (Ha):\n",
    "\n",
    "μmale>μfemale\n",
    "\n",
    " \n",
    "In this context, you're testing whether there is enough evidence to support the claim that male college students, on average, have a greater weight than female college students. The null hypothesis assumes no significant difference or that male students may have equal or less average weight, while the alternative hypothesis suggests a difference favoring male students. This forms the basis for statistical hypothesis testing, where you would collect and analyze data to draw conclusions about the population parameters.\n"
   ]
  },
  {
   "cell_type": "markdown",
   "id": "cefbaf43-6ff9-49ad-b189-2a56c6f188e8",
   "metadata": {},
   "source": [
    "                      -------------------------------------------------------------------"
   ]
  },
  {
   "cell_type": "markdown",
   "id": "536c109f-f116-42ed-92a3-0abfa3b81fae",
   "metadata": {},
   "source": [
    "Q5. Write a Python script to conduct a hypothesis test on the difference between two population means,\n",
    "given a sample from each population."
   ]
  },
  {
   "cell_type": "code",
   "execution_count": 2,
   "id": "c67726a7-8ae8-46db-b04c-93fda859241d",
   "metadata": {},
   "outputs": [
    {
     "name": "stdout",
     "output_type": "stream",
     "text": [
      "Two-Sample T-Test Result:\n",
      "T-Statistic: 3.9462790956016813\n",
      "P-Value: 0.00021692578547756098\n",
      "Decision: Reject the null hypothesis\n"
     ]
    }
   ],
   "source": [
    "#Answer\n",
    "\n",
    "import numpy as np\n",
    "from scipy import stats\n",
    "\n",
    "def two_sample_t_test(sample1, sample2, alpha=0.05):\n",
    "    \"\"\"\n",
    "    Conducts a two-sample t-test for the difference between two population means.\n",
    "\n",
    "    Parameters:\n",
    "    - sample1: NumPy array, the sample data for population 1.\n",
    "    - sample2: NumPy array, the sample data for population 2.\n",
    "    - alpha: Significance level (default is 0.05).\n",
    "\n",
    "    Returns:\n",
    "    - result: A dictionary containing the test statistic, p-value, and decision.\n",
    "    \"\"\"\n",
    "    # Conduct a two-sample t-test\n",
    "    t_stat, p_value = stats.ttest_ind(sample1, sample2)\n",
    "\n",
    "    # Determine the decision based on the p-value and significance level\n",
    "    if p_value < alpha:\n",
    "        decision = \"Reject the null hypothesis\"\n",
    "    else:\n",
    "        decision = \"Fail to reject the null hypothesis\"\n",
    "\n",
    "    # Create a result dictionary\n",
    "    result = {\n",
    "        't_statistic': t_stat,\n",
    "        'p_value': p_value,\n",
    "        'alpha': alpha,\n",
    "        'decision': decision\n",
    "    }\n",
    "\n",
    "    return result\n",
    "\n",
    "# Example usage:\n",
    "# Generate two random samples for demonstration purposes\n",
    "np.random.seed(42)\n",
    "sample_male = np.random.normal(loc=70, scale=5, size=30)  # Mean weight of male students\n",
    "sample_female = np.random.normal(loc=65, scale=5, size=30)  # Mean weight of female students\n",
    "\n",
    "# Perform a two-sample t-test\n",
    "result = two_sample_t_test(sample_male, sample_female)\n",
    "\n",
    "# Display the result\n",
    "print(\"Two-Sample T-Test Result:\")\n",
    "print(f\"T-Statistic: {result['t_statistic']}\")\n",
    "print(f\"P-Value: {result['p_value']}\")\n",
    "print(f\"Decision: {result['decision']}\")\n"
   ]
  },
  {
   "cell_type": "markdown",
   "id": "4bd56842-96dd-463e-9a53-abe5f7acc2c6",
   "metadata": {},
   "source": [
    "                       -------------------------------------------------------------------"
   ]
  },
  {
   "cell_type": "markdown",
   "id": "ee419291-16e2-4ecc-85ca-76ecf73276b9",
   "metadata": {},
   "source": [
    "Q6: What is a null and alternative hypothesis? Give some examples."
   ]
  },
  {
   "cell_type": "markdown",
   "id": "31c84d58-a96f-4589-9464-9f076b6ba8f2",
   "metadata": {},
   "source": [
    "#Answer\n",
    "\n",
    "\n",
    "In hypothesis testing, the null hypothesis (H0) and the alternative hypothesis (Ha) are two complementary statements that are used to make inferences about a population parameter based on sample data.\n",
    "\n",
    "Null Hypothesis (H0):\n",
    "\n",
    "* The null hypothesis is a statement of no effect, no difference, or no change in the population parameter. It represents a default assumption that is typically made for the purpose of statistical testing.\n",
    "* Symbolically, the null hypothesis is often denoted as H0.\n",
    "* In many cases, the null hypothesis suggests that any observed differences or effects are due to random variability or chance.\n",
    "Examples:\n",
    "H0: The average height of male and female students is the same.\n",
    "H0: The new drug has no effect on blood pressure.\n",
    "H0: There is no difference in exam scores between students who received tutoring and those who did not\n",
    "\n",
    "\n",
    "Alternative Hypothesis (Ha):\n",
    "\n",
    "* The alternative hypothesis is a statement that contradicts the null hypothesis. It represents what a researcher is trying to find evidence for and typically suggests the presence of an effect, difference, or change in the population parameter.\n",
    "* Symbolically, the alternative hypothesis is often denoted as Ha.\n",
    "* The alternative hypothesis is the focus of the hypothesis test, and statistical evidence is sought to either reject the null hypothesis in favor of the alternative or fail to reject the null hypothesis.\n",
    "Examples:\n",
    "Ha: The average height of male students is greater than the average height of female students.\n",
    "Ha: The new drug significantly reduces blood pressure\n",
    "\n",
    "\n",
    "Ha: Students who received tutoring have higher exam scores than those who did not.\n",
    "In summary, the null hypothesis represents a default or status quo assumption, while the alternative hypothesis represents the researcher's hypothesis or the claim being tested. The goal of hypothesis testing is to use sample data to make an informed decision about whether there is enough evidence to reject the null hypothesis in favor of the alternative hypothesis.\n",
    "\n"
   ]
  },
  {
   "cell_type": "markdown",
   "id": "8f870a8c-d683-4e8b-98e5-366dd620c04f",
   "metadata": {},
   "source": [
    "                       -------------------------------------------------------------------"
   ]
  },
  {
   "cell_type": "markdown",
   "id": "45e3a8b5-5f04-4c3b-bd4a-bef7a32a9e38",
   "metadata": {},
   "source": [
    "Q7: Write down the steps involved in hypothesis testing."
   ]
  },
  {
   "cell_type": "markdown",
   "id": "8251c54c-97cf-4fe5-810d-57ed0be36ee7",
   "metadata": {},
   "source": [
    "#Answer\n",
    "\n",
    "\n",
    "Hypothesis testing involves a series of steps designed to assess whether there is enough evidence in a sample to draw conclusions about a population parameter. Here are the general steps involved in hypothesis testing:\n",
    "\n",
    "1. Formulate Hypotheses:\n",
    "\n",
    "* Define the null hypothesis (H0): a statement of no effect, no difference, or no change in the population parameter.\n",
    "* Define the alternative hypothesis (Ha): a statement that contradicts the null hypothesis, suggesting the presence of an effect, difference, or change in the population parameter\n",
    "\n",
    "2. Set Significance Level (Alpha):\n",
    "\n",
    "* Choose a significance level (α), commonly set at 0.05. This represents the probability of rejecting the null hypothesis when it is true\n",
    "\n",
    "3. Collect Data:\n",
    "\n",
    "* Collect a sample of data relevant to the hypotheses\n",
    "\n",
    "4. Choose a Statistical Test:\n",
    "\n",
    "* Select an appropriate statistical test based on the type of data and the research question (e.g., t-test, chi-square test, ANOVA).\n",
    "\n",
    "5. Compute Test Statistic:\n",
    "\n",
    "Calculate the test statistic using the sample data and the chosen statistical test.\n",
    "\n",
    "6. Determine Critical Region or P-Value:\n",
    "\n",
    "For a given significance level, identify the critical region (the range of values that, if the test statistic falls within, leads to rejection of the null hypothesis) or calculate the p-value.\n",
    "\n",
    "7. Make a Decision:\n",
    "\n",
    "If the test statistic falls into the critical region or if the p-value is less than the significance level (α), reject the null hypothesis.\n",
    "If the test statistic does not fall into the critical region and the p-value is greater than α, fail to reject the null hypothesis.\n",
    "\n",
    "8. Draw Conclusions:\n",
    "\n",
    "Based on the decision in step 7, draw conclusions about the population parameter. If the null hypothesis is rejected, support the alternative hypothesis.\n",
    "\n",
    "9. Report Results:\n",
    "\n",
    "Clearly communicate the results of the hypothesis test, including the test statistic, p-value, and the decision regarding the null hypothesis.\n",
    "\n",
    "It's important to note that while these steps provide a general framework for hypothesis testing, the specific details may vary depending on the nature of the data and the statistical test being used. "
   ]
  },
  {
   "cell_type": "markdown",
   "id": "53e4d543-19c3-4b9e-9d1b-ed18cad0596d",
   "metadata": {},
   "source": [
    "                       -------------------------------------------------------------------"
   ]
  },
  {
   "cell_type": "markdown",
   "id": "d5947ff2-b2df-43ce-8c76-b4e45436c032",
   "metadata": {},
   "source": [
    "Q8. Define p-value and explain its significance in hypothesis testing."
   ]
  },
  {
   "cell_type": "markdown",
   "id": "cf00af40-5c1b-4188-9682-71ab2ed71be9",
   "metadata": {},
   "source": [
    "#Answer\n",
    "\n",
    "The p-value, or probability value, is a crucial concept in hypothesis testing. It quantifies the evidence against a null hypothesis and helps researchers make decisions about whether to reject or fail to reject the null hypothesis. The p-value is the probability of observing a test statistic as extreme as, or more extreme than, the one calculated from the sample data, assuming that the null hypothesis is true.\n",
    "\n",
    "Here are key points about p-values and their significance in hypothesis testing:\n",
    "\n",
    "1. Interpretation of p-value:\n",
    "\n",
    "* A small p-value (typically less than the chosen significance level, often 0.05) suggests that the observed results are unlikely to have occurred by random chance alone.\n",
    "* A large p-value indicates that the observed results are reasonably likely under the assumption of the null hypothesis\n",
    "\n",
    "\n",
    "2. Decision Rule:\n",
    "\n",
    "* If the p-value is less than or equal to the chosen significance level (α), the researcher rejects the null hypothesis.\n",
    "* If the p-value is greater than the significance level, the researcher fails to reject the null hypothesis\n",
    "\n",
    "\n",
    "3. Significance Level (α):\n",
    "\n",
    "* The significance level, often set at 0.05, represents the threshold for deciding whether the evidence against the null hypothesis is strong enough to reject it.\n",
    "* Researchers compare the p-value to the significance level to make a decision\n",
    "\n",
    "4. Two-Tailed vs. One-Tailed Tests:\n",
    "\n",
    "* In a two-tailed test, the p-value accounts for extreme values in both tails of the distribution. In a one-tailed test, the p-value is concentrated in one tail.\n",
    "* For a two-tailed test, a small p-value indicates that the observed results are significantly different from the null hypothesis in either direction.\n",
    "* For a one-tailed test, a small p-value indicates a significant difference in a specific direction (either greater than or less than)\n",
    "\n",
    "5. Not a Measure of Effect Size:\n",
    "\n",
    "* The p-value does not provide information about the size or practical importance of the observed effect. It only assesses the statistical evidence against the null hypothesis\n",
    "\n",
    "6. Caution in Interpretation:\n",
    "\n",
    "* While a small p-value suggests evidence against the null hypothesis, it does not prove the alternative hypothesis or establish causation. It only provides evidence against the null hypothesis within the context of the study\n",
    "\n",
    "\n",
    "In summary, the p-value is a key component in hypothesis testing, helping researchers assess the strength of evidence against the null hypothesis. It provides a basis for making informed decisions about whether the observed results are statistically significant and whether the null hypothesis should be rejected in favor of the alternative hypothesis.\n",
    "\n"
   ]
  },
  {
   "cell_type": "markdown",
   "id": "52f9681f-2288-4d55-91f9-3c3ee9ecd820",
   "metadata": {},
   "source": [
    "                       -------------------------------------------------------------------"
   ]
  },
  {
   "cell_type": "markdown",
   "id": "c0af00f8-427b-43d4-a1df-69f33ae9b6e9",
   "metadata": {},
   "source": [
    "Q9. Generate a Student's t-distribution plot using Python's matplotlib library, with the degrees of freedom\n",
    "parameter set to 10."
   ]
  },
  {
   "cell_type": "code",
   "execution_count": 3,
   "id": "9db9d8f3-2b27-4819-ac93-7de7ffe5a775",
   "metadata": {},
   "outputs": [
    {
     "data": {
      "image/png": "[encoded data removed]",
      "text/plain": [
       "<Figure size 640x480 with 1 Axes>"
      ]
     },
     "metadata": {},
     "output_type": "display_data"
    }
   ],
   "source": [
    "#Answer\n",
    "\n",
    "import numpy as np\n",
    "import matplotlib.pyplot as plt\n",
    "from scipy.stats import t\n",
    "\n",
    "# Set the degrees of freedom\n",
    "degrees_of_freedom = 10\n",
    "\n",
    "# Generate values for the x-axis\n",
    "x = np.linspace(-4, 4, 1000)\n",
    "\n",
    "# Create the Student's t-distribution with 10 degrees of freedom\n",
    "t_distribution = t.pdf(x, df=degrees_of_freedom)\n",
    "\n",
    "# Plot the t-distribution\n",
    "plt.plot(x, t_distribution, label=f\"t-distribution (df={degrees_of_freedom})\")\n",
    "plt.title(\"Student's t-distribution\")\n",
    "plt.xlabel(\"x\")\n",
    "plt.ylabel(\"Probability Density Function (PDF)\")\n",
    "plt.legend()\n",
    "plt.grid(True)\n",
    "plt.show()\n"
   ]
  },
  {
   "cell_type": "markdown",
   "id": "32b7d237-0a0e-4b8c-a402-87d83f0e84ef",
   "metadata": {},
   "source": [
    "                       -------------------------------------------------------------------"
   ]
  },
  {
   "cell_type": "markdown",
   "id": "f2bc43ff-c490-4966-b552-784dd331c06b",
   "metadata": {},
   "source": [
    "Q10. Write a Python program to calculate the two-sample t-test for independent samples, given two\n",
    "random samples of equal size and a null hypothesis that the population means are equal"
   ]
  },
  {
   "cell_type": "code",
   "execution_count": 4,
   "id": "ca3c10d7-726b-40b3-b1ac-40e24599034c",
   "metadata": {},
   "outputs": [
    {
     "name": "stdout",
     "output_type": "stream",
     "text": [
      "Two-Sample T-Test Results:\n",
      "T-Statistic: -2.3981151520102415\n",
      "P-Value: 0.019717941865758228\n",
      "Reject the null hypothesis (population means are not equal)\n"
     ]
    }
   ],
   "source": [
    "#Answer\n",
    "\n",
    "import numpy as np\n",
    "from scipy import stats\n",
    "\n",
    "def two_sample_t_test(sample1, sample2):\n",
    "    \"\"\"\n",
    "    Perform a two-sample t-test for independent samples.\n",
    "\n",
    "    Parameters:\n",
    "    - sample1: NumPy array, the first sample data.\n",
    "    - sample2: NumPy array, the second sample data.\n",
    "\n",
    "    Returns:\n",
    "    - t_statistic: The calculated t-statistic.\n",
    "    - p_value: The p-value of the test.\n",
    "    \"\"\"\n",
    "    t_statistic, p_value = stats.ttest_ind(sample1, sample2)\n",
    "    return t_statistic, p_value\n",
    "\n",
    "# Example usage:\n",
    "# Generate two random samples for demonstration purposes\n",
    "np.random.seed(42)\n",
    "sample1 = np.random.normal(loc=50, scale=10, size=30)\n",
    "sample2 = np.random.normal(loc=55, scale=10, size=30)\n",
    "\n",
    "# Perform a two-sample t-test\n",
    "t_statistic, p_value = two_sample_t_test(sample1, sample2)\n",
    "\n",
    "# Display the results\n",
    "print(\"Two-Sample T-Test Results:\")\n",
    "print(f\"T-Statistic: {t_statistic}\")\n",
    "print(f\"P-Value: {p_value}\")\n",
    "\n",
    "# Check if the null hypothesis can be rejected at a significance level of 0.05\n",
    "alpha = 0.05\n",
    "if p_value < alpha:\n",
    "    print(\"Reject the null hypothesis (population means are not equal)\")\n",
    "else:\n",
    "    print(\"Fail to reject the null hypothesis (no evidence to suggest different population means)\")\n"
   ]
  },
  {
   "cell_type": "markdown",
   "id": "fc7fea3e-8e9c-4648-976a-390d5a0d69a9",
   "metadata": {},
   "source": [
    "                       -------------------------------------------------------------------"
   ]
  },
  {
   "cell_type": "markdown",
   "id": "94f9f171-ece0-4dd6-b5eb-2677567091b0",
   "metadata": {},
   "source": [
    "Q11: What is Student’s t distribution? When to use the t-Distribution."
   ]
  },
  {
   "cell_type": "markdown",
   "id": "218d075e-d25c-4615-bc60-94b7cefcabf3",
   "metadata": {},
   "source": [
    "#Answer\n",
    "\n",
    "\n",
    "Student's t-distribution, often referred to simply as the t-distribution, is a probability distribution that is used in statistical hypothesis testing when the sample size is small and the population standard deviation is unknown. \n",
    "Key characteristics of the t-distribution:\n",
    "\n",
    "* Shape:\n",
    "\n",
    "The t-distribution has a bell-shaped curve like the normal distribution, but with heavier tails.\n",
    "The shape of the distribution is determined by a parameter called the degrees of freedom (df)\n",
    "\n",
    "* Degrees of Freedom (df):\n",
    "\n",
    "The degrees of freedom in the t-distribution represent the number of independent observations in a sample.\n",
    "As the degrees of freedom increase, the t-distribution approaches the shape of the standard normal distribution (z-distribution)\n",
    "\n",
    "* Comparison with Normal Distribution:\n",
    "\n",
    "* For large sample sizes (typically n > 30), the t-distribution becomes very similar to the standard normal distribution (z-distribution).\n",
    "* As the sample size decreases, the t-distribution becomes wider and has more probability in the tails.\n",
    "\n",
    "When to Use the t-Distribution:\n",
    "\n",
    "The t-distribution is used in the following scenarios:\n",
    "\n",
    "* Small Sample Sizes:\n",
    "\n",
    "When dealing with small sample sizes (typically n < 30) and the population standard deviation is unknown, the t-distribution is more appropriate than the normal distribution for making inferences about the population mean\n",
    "\n",
    "* Unknown Population Standard Deviation:\n",
    "\n",
    "In situations where the population standard deviation is unknown and must be estimated from the sample data, the t-distribution is used\n",
    "\n",
    "* Hypothesis Testing:\n",
    "\n",
    "In hypothesis testing scenarios where the population mean is being compared to a sample mean and the sample size is small, the t-distribution is used to calculate critical values and p-values\n",
    "\n",
    "* Confidence Intervals:\n",
    "\n",
    "When constructing confidence intervals for the population mean based on small samples, the t-distribution is used to account for the additional uncertainty introduced by estimating the population standard deviation\n",
    "\n",
    "In summary, the t-distribution is a valuable tool in statistics for situations where sample sizes are small, and the population standard deviation is unknown. It provides a more accurate distribution for making inferences about population parameters under these conditions. As sample sizes increase, the t-distribution approaches the normal distribution, and for large samples, the distinction becomes less important.\n",
    "\n"
   ]
  },
  {
   "cell_type": "markdown",
   "id": "86ac9a53-96a8-48e8-954f-56af9e08564c",
   "metadata": {},
   "source": [
    "                       -------------------------------------------------------------------"
   ]
  },
  {
   "cell_type": "markdown",
   "id": "a965e446-9a5e-4fda-b6e2-819c9a36a08e",
   "metadata": {},
   "source": [
    "Q12: What is t-statistic? State the formula for t-statistic."
   ]
  },
  {
   "cell_type": "markdown",
   "id": "f61f5bc8-10cf-42ac-9840-4b3530fb41a4",
   "metadata": {},
   "source": [
    "#Answer\n",
    "\n",
    "\n",
    "The t-statistic is a measure that quantifies the difference between the sample mean and the hypothesized population mean in terms of the variability in the sample data. It is commonly used in hypothesis testing to assess whether the observed difference is statistically significant. The formula for the t-statistic depends on the context of the statistical test being performed.\n",
    "\n",
    "The general formula for the t-statistic in the context of a one-sample t-test (comparing the mean of a sample to a known or hypothesized population mean) is:\n",
    "\n",
    "t = Xˉ−μ/ s/sqrt(n)\n",
    "\n",
    "Where:\n",
    "\n",
    "Xˉ is the sample mean.\n",
    "\n",
    "μ is the hypothesized population mean under the null hypothesis.\n",
    "\n",
    "s is the sample standard deviation.\n",
    "\n",
    "n is the sample size.\n",
    "\n",
    "In the context of a two-sample t-test (comparing the means of two independent samples), the formula for the t-statistic is:\n",
    "\n",
    "\n",
    "t = Xˉ1 − Xˉ2 / sqrt( s1/n1 + s2/n2 )\n",
    "\n",
    "\n",
    "Where:\n",
    "\n",
    "Xˉ1 and Xˉ2  are the sample means of the two groups being compared.\n",
    "\n",
    "s1 and s 2  are the sample standard deviations of the two groups.\n",
    "\n",
    "\n",
    "n1 and n2  are the sample sizes of the two groups.\n",
    "\n",
    "In both cases, the t-statistic is a standardized measure that expresses the difference between the sample means in terms of standard errors. It essentially quantifies how many standard errors the observed difference is from the expected difference under the null hypothesis. The larger the absolute value of the t-statistic, the more evidence there is against the null hypothesis.\n",
    "\n",
    "Researchers compare the calculated t-statistic to critical values from the t-distribution or use it to calculate a p-value to make a decision about whether to reject the null hypothesis in favor of the alternative hypothesis."
   ]
  },
  {
   "cell_type": "markdown",
   "id": "a40aa5b1-06c7-480a-a452-8d95bf2e5d52",
   "metadata": {},
   "source": [
    "                       -------------------------------------------------------------------"
   ]
  },
  {
   "cell_type": "markdown",
   "id": "075abfe0-5cc7-487b-8d24-75d848e39d57",
   "metadata": {},
   "source": [
    "Q13. A coffee shop owner wants to estimate the average daily revenue for their shop. They take a random\n",
    "\n",
    "sample of 50 days and find the sample mean revenue to be $500 with a standard  deviation  of  $50.\n",
    "\n",
    "Estimate the population mean revenue with a 95% confidence interval. "
   ]
  },
  {
   "cell_type": "code",
   "execution_count": 5,
   "id": "342c7951-408d-4f79-8699-13f5e0d466a3",
   "metadata": {},
   "outputs": [
    {
     "name": "stdout",
     "output_type": "stream",
     "text": [
      "Sample Mean: $500\n",
      "Standard Error: $7.07\n",
      "Critical Value (t): 2.010\n",
      "Margin of Error: $14.21\n",
      "95% Confidence Interval: ($485.79, $514.21)\n"
     ]
    }
   ],
   "source": [
    "#Answer\n",
    "\n",
    "import scipy.stats as stats\n",
    "import math\n",
    "\n",
    "# Given values\n",
    "sample_mean = 500\n",
    "sample_std = 50\n",
    "sample_size = 50\n",
    "confidence_level = 0.95\n",
    "\n",
    "# Calculate the standard error\n",
    "standard_error = sample_std / math.sqrt(sample_size)\n",
    "\n",
    "# Find the critical value from the t-distribution\n",
    "t_critical = stats.t.ppf((1 + confidence_level) / 2, df=sample_size - 1)\n",
    "\n",
    "# Calculate the margin of error\n",
    "margin_of_error = t_critical * standard_error\n",
    "\n",
    "# Calculate the confidence interval\n",
    "lower_bound = sample_mean - margin_of_error\n",
    "upper_bound = sample_mean + margin_of_error\n",
    "\n",
    "# Display the results\n",
    "print(f\"Sample Mean: ${sample_mean}\")\n",
    "print(f\"Standard Error: ${standard_error:.2f}\")\n",
    "print(f\"Critical Value (t): {t_critical:.3f}\")\n",
    "print(f\"Margin of Error: ${margin_of_error:.2f}\")\n",
    "print(f\"95% Confidence Interval: (${lower_bound:.2f}, ${upper_bound:.2f})\")\n"
   ]
  },
  {
   "cell_type": "markdown",
   "id": "b90d1446-a016-478b-9ddb-30b92ca003a1",
   "metadata": {},
   "source": [
    "                       -------------------------------------------------------------------"
   ]
  },
  {
   "cell_type": "markdown",
   "id": "c10e2131-4504-44f1-a1ca-1386bffbdd2e",
   "metadata": {},
   "source": [
    "Q14. A researcher hypothesizes that a new drug will decrease blood pressure by 10 mmHg. They conduct a\n",
    "clinical trial with 100 patients and find that the sample mean decrease in blood pressure is 8 mmHg with a\n",
    "standard deviation of 3 mmHg. Test the hypothesis with a significance level of 0.05."
   ]
  },
  {
   "cell_type": "code",
   "execution_count": 6,
   "id": "d59ffb09-7e3f-4396-89e8-44d4ae4ef089",
   "metadata": {},
   "outputs": [
    {
     "name": "stdout",
     "output_type": "stream",
     "text": [
      "T-Statistic: -6.667\n",
      "Critical Values: -1.984 and 1.984\n",
      "Reject Null Hypothesis: True\n"
     ]
    }
   ],
   "source": [
    "#Answer\n",
    "\n",
    "import scipy.stats as stats\n",
    "import math\n",
    "\n",
    "# Given values\n",
    "sample_mean = 8\n",
    "population_mean_hypothesis = 10\n",
    "sample_std = 3\n",
    "sample_size = 100\n",
    "significance_level = 0.05\n",
    "\n",
    "# Calculate the standard error\n",
    "standard_error = sample_std / math.sqrt(sample_size)\n",
    "\n",
    "# Calculate the t-statistic\n",
    "t_statistic = (sample_mean - population_mean_hypothesis) / standard_error\n",
    "\n",
    "# Find the critical values from the t-distribution\n",
    "critical_value_lower = stats.t.ppf(significance_level / 2, df=sample_size - 1)\n",
    "critical_value_upper = stats.t.ppf(1 - significance_level / 2, df=sample_size - 1)\n",
    "\n",
    "# Determine if the null hypothesis should be rejected\n",
    "reject_null_hypothesis = t_statistic < critical_value_lower or t_statistic > critical_value_upper\n",
    "\n",
    "# Display the results\n",
    "print(f\"T-Statistic: {t_statistic:.3f}\")\n",
    "print(f\"Critical Values: {critical_value_lower:.3f} and {critical_value_upper:.3f}\")\n",
    "print(f\"Reject Null Hypothesis: {reject_null_hypothesis}\")\n"
   ]
  },
  {
   "cell_type": "markdown",
   "id": "a0993b0f-c632-4193-a997-e4be548edb53",
   "metadata": {},
   "source": [
    "                       -------------------------------------------------------------------"
   ]
  },
  {
   "cell_type": "markdown",
   "id": "38a718b3-faff-48ea-b9bd-af289085a525",
   "metadata": {},
   "source": [
    "Q15. An electronics company produces a certain type of product with a mean weight of 5 pounds and a\n",
    "standard deviation of 0.5 pounds. A random sample of 25 products is taken, and the sample mean weight\n",
    "is found to be 4.8 pounds. Test the hypothesis that the true mean weight of the products is less than 5\n",
    "pounds with a significance level of 0.01."
   ]
  },
  {
   "cell_type": "markdown",
   "id": "7bc30da3-6364-4f03-b0ed-8b70a9f13c94",
   "metadata": {},
   "source": [
    "To test the hypothesis that the true mean weight of the products is less than 5 pounds, you can perform a one-sample t-test. The null hypothesis (H0) is that the mean weight is equal to 5 pounds, and the alternative hypothesis (Ha) is that the mean weight is less than 5 pounds.\n",
    "\n",
    "The formula for the t-statistic in a one-sample t-test is:\n",
    "\n",
    "\n",
    "t = Xˉ−μ0/s/sqrt(n)\n",
    "\n",
    "Where:\n",
    "\n",
    "\n",
    "Xˉ  is the sample mean.\n",
    "\n",
    "\n",
    "μ0  is the hypothesized population mean under the null hypothesis.\n",
    "\n",
    "s is the sample standard deviation.\n",
    "\n",
    "n is the sample size.\n",
    "Let's calculate the t-statistic and perform the hypothesis test:"
   ]
  },
  {
   "cell_type": "code",
   "execution_count": 7,
   "id": "f902c765-14ea-4533-82cd-9e9e153db9a4",
   "metadata": {},
   "outputs": [
    {
     "name": "stdout",
     "output_type": "stream",
     "text": [
      "T-Statistic: -2.000\n",
      "Critical Value: -2.492\n",
      "Reject Null Hypothesis: False\n"
     ]
    }
   ],
   "source": [
    "#Answer\n",
    "\n",
    "import scipy.stats as stats\n",
    "import math\n",
    "\n",
    "# Given values\n",
    "sample_mean = 4.8\n",
    "population_mean_hypothesis = 5\n",
    "sample_std = 0.5\n",
    "sample_size = 25\n",
    "significance_level = 0.01\n",
    "\n",
    "# Calculate the standard error\n",
    "standard_error = sample_std / math.sqrt(sample_size)\n",
    "\n",
    "# Calculate the t-statistic\n",
    "t_statistic = (sample_mean - population_mean_hypothesis) / standard_error\n",
    "\n",
    "# Find the critical value from the t-distribution\n",
    "critical_value = stats.t.ppf(significance_level, df=sample_size - 1)\n",
    "\n",
    "# Determine if the null hypothesis should be rejected\n",
    "reject_null_hypothesis = t_statistic < critical_value\n",
    "\n",
    "# Display the results\n",
    "print(f\"T-Statistic: {t_statistic:.3f}\")\n",
    "print(f\"Critical Value: {critical_value:.3f}\")\n",
    "print(f\"Reject Null Hypothesis: {reject_null_hypothesis}\")\n"
   ]
  },
  {
   "cell_type": "markdown",
   "id": "a08576ff-738e-4341-bc9b-320d563b524d",
   "metadata": {},
   "source": [
    "                       -------------------------------------------------------------------"
   ]
  },
  {
   "cell_type": "markdown",
   "id": "186df463-43a0-493e-af75-3ca84bfd9429",
   "metadata": {},
   "source": [
    "Q16. Two groups of students are given different study materials to prepare for a test. The first group (n1 =\n",
    "30) has a mean score of 80 with a standard deviation of 10, and the second group (n2 = 40) has a mean\n",
    "score of 75 with a standard deviation of 8. Test the hypothesis that the population means for the two\n",
    "groups are equal with a significance level of 0.01."
   ]
  },
  {
   "cell_type": "code",
   "execution_count": 8,
   "id": "30479c07-174d-4be7-98c3-7dc194aa6737",
   "metadata": {},
   "outputs": [
    {
     "name": "stdout",
     "output_type": "stream",
     "text": [
      "T-Statistic: 2.251\n",
      "Critical Values: -2.650 and 2.650\n",
      "Reject Null Hypothesis: False\n"
     ]
    }
   ],
   "source": [
    "import scipy.stats as stats\n",
    "import math\n",
    "\n",
    "# Group 1\n",
    "mean_group1 = 80\n",
    "std_group1 = 10\n",
    "size_group1 = 30\n",
    "\n",
    "# Group 2\n",
    "mean_group2 = 75\n",
    "std_group2 = 8\n",
    "size_group2 = 40\n",
    "\n",
    "# Significance level\n",
    "significance_level = 0.01\n",
    "\n",
    "# Calculate the standard error\n",
    "standard_error = math.sqrt((std_group1**2 / size_group1) + (std_group2**2 / size_group2))\n",
    "\n",
    "# Calculate the t-statistic\n",
    "t_statistic = (mean_group1 - mean_group2) / standard_error\n",
    "\n",
    "# Find the critical values from the t-distribution\n",
    "critical_value_lower = stats.t.ppf(significance_level / 2, df=size_group1 + size_group2 - 2)\n",
    "critical_value_upper = stats.t.ppf(1 - significance_level / 2, df=size_group1 + size_group2 - 2)\n",
    "\n",
    "# Determine if the null hypothesis should be rejected\n",
    "reject_null_hypothesis = t_statistic < critical_value_lower or t_statistic > critical_value_upper\n",
    "\n",
    "# Display the results\n",
    "print(f\"T-Statistic: {t_statistic:.3f}\")\n",
    "print(f\"Critical Values: {critical_value_lower:.3f} and {critical_value_upper:.3f}\")\n",
    "print(f\"Reject Null Hypothesis: {reject_null_hypothesis}\")\n"
   ]
  },
  {
   "cell_type": "markdown",
   "id": "0f10a486-d41f-4cef-ac1d-ee3ec9248b5d",
   "metadata": {},
   "source": [
    "                       -------------------------------------------------------------------"
   ]
  },
  {
   "cell_type": "markdown",
   "id": "0bce2429-3997-4476-aebb-0a1ee2cd5e94",
   "metadata": {},
   "source": [
    "Q17. A marketing company wants to estimate the average number of ads watched by viewers during a TV\n",
    "program. They take a random sample of 50 viewers and find that the sample mean is 4 with a standard\n",
    "deviation of 1.5. Estimate the population mean with a 99% confidence interval."
   ]
  },
  {
   "cell_type": "code",
   "execution_count": 9,
   "id": "ce23018d-fab9-4a59-afc5-768e38c08023",
   "metadata": {},
   "outputs": [
    {
     "name": "stdout",
     "output_type": "stream",
     "text": [
      "Sample Mean: 4\n",
      "Standard Error: 0.21\n",
      "Critical Value: 2.576\n",
      "Margin of Error: 0.55\n",
      "99% Confidence Interval: (3.45, 4.55)\n"
     ]
    }
   ],
   "source": [
    "#Answer\n",
    "\n",
    "import scipy.stats as stats\n",
    "import math\n",
    "\n",
    "# Given values\n",
    "sample_mean = 4\n",
    "sample_std = 1.5\n",
    "sample_size = 50\n",
    "confidence_level = 0.99\n",
    "\n",
    "# Calculate the standard error\n",
    "standard_error = sample_std / math.sqrt(sample_size)\n",
    "\n",
    "# Find the critical value from the standard normal distribution\n",
    "critical_value = stats.norm.ppf((1 + confidence_level) / 2)\n",
    "\n",
    "# Calculate the margin of error\n",
    "margin_of_error = critical_value * standard_error\n",
    "\n",
    "# Calculate the confidence interval\n",
    "lower_bound = sample_mean - margin_of_error\n",
    "upper_bound = sample_mean + margin_of_error\n",
    "\n",
    "# Display the results\n",
    "print(f\"Sample Mean: {sample_mean}\")\n",
    "print(f\"Standard Error: {standard_error:.2f}\")\n",
    "print(f\"Critical Value: {critical_value:.3f}\")\n",
    "print(f\"Margin of Error: {margin_of_error:.2f}\")\n",
    "print(f\"99% Confidence Interval: ({lower_bound:.2f}, {upper_bound:.2f})\")\n"
   ]
  },
  {
   "cell_type": "markdown",
   "id": "c195c9bd-aba6-49ad-a195-6b541eb54fb2",
   "metadata": {},
   "source": [
    "                        -------------------------------------------------------------------"
   ]
  }
 ],
 "metadata": {
  "kernelspec": {
   "display_name": "Python 3 (ipykernel)",
   "language": "python",
   "name": "python3"
  },
  "language_info": {
   "codemirror_mode": {
    "name": "ipython",
    "version": 3
   },
   "file_extension": ".py",
   "mimetype": "text/x-python",
   "name": "python",
   "nbconvert_exporter": "python",
   "pygments_lexer": "ipython3",
   "version": "3.10.8"
  }
 },
 "nbformat": 4,
 "nbformat_minor": 5
}
